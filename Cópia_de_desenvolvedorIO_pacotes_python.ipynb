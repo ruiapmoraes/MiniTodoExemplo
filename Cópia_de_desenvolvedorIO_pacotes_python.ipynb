{
  "nbformat": 4,
  "nbformat_minor": 0,
  "metadata": {
    "colab": {
      "provenance": [],
      "authorship_tag": "ABX9TyPTmoHb5BN6qp+mOJy0jiNF",
      "include_colab_link": true
    },
    "kernelspec": {
      "name": "python3",
      "display_name": "Python 3"
    },
    "language_info": {
      "name": "python"
    }
  },
  "cells": [
    {
      "cell_type": "markdown",
      "metadata": {
        "id": "view-in-github",
        "colab_type": "text"
      },
      "source": [
        "<a href=\"https://colab.research.google.com/github/ruiapmoraes/MiniTodoExemplo/blob/master/C%C3%B3pia_de_desenvolvedorIO_pacotes_python.ipynb\" target=\"_parent\"><img src=\"https://colab.research.google.com/assets/colab-badge.svg\" alt=\"Open In Colab\"/></a>"
      ]
    },
    {
      "cell_type": "markdown",
      "source": [
        "NumPy"
      ],
      "metadata": {
        "id": "DIdbWw9LBYOE"
      }
    },
    {
      "cell_type": "code",
      "execution_count": null,
      "metadata": {
        "id": "7tpkwUw8BRA-"
      },
      "outputs": [],
      "source": [
        "import numpy as np"
      ]
    },
    {
      "cell_type": "code",
      "source": [
        "array = np.array([1,2,3,4,5])\n",
        "mean_value = np.mean(array)\n",
        "sum_value = np.sum(array)\n",
        "count_value = np.count_nonzero(array)\n",
        "print(\"Soma do array:\", sum_value)\n",
        "print(\"Tamanho do array: \", count_value)\n",
        "print(\"Média do array: \", mean_value)"
      ],
      "metadata": {
        "colab": {
          "base_uri": "https://localhost:8080/"
        },
        "id": "9-ikQZyVBqGj",
        "outputId": "fd45097d-c4b1-4126-fb73-5899d817afe7"
      },
      "execution_count": null,
      "outputs": [
        {
          "output_type": "stream",
          "name": "stdout",
          "text": [
            "Soma do array: 15\n",
            "Tamanho do array:  5\n",
            "Média do array:  3.0\n"
          ]
        }
      ]
    },
    {
      "cell_type": "code",
      "source": [
        "semente = 42\n",
        "np.random.seed(semente)\n",
        "\n",
        "matrix = np.random.rand(3,3)\n",
        "print(\"Matrix original:\\n\", matrix)\n",
        "print(\"Matrix transposta:\\n\", matrix.T)"
      ],
      "metadata": {
        "colab": {
          "base_uri": "https://localhost:8080/"
        },
        "id": "MLQcOMoJCXfQ",
        "outputId": "636991e6-67b3-40b2-8e1d-9fff0f9ed009"
      },
      "execution_count": null,
      "outputs": [
        {
          "output_type": "stream",
          "name": "stdout",
          "text": [
            "Matrix original:\n",
            " [[0.37454012 0.95071431 0.73199394]\n",
            " [0.59865848 0.15601864 0.15599452]\n",
            " [0.05808361 0.86617615 0.60111501]]\n",
            "Matrix transposta:\n",
            " [[0.37454012 0.59865848 0.05808361]\n",
            " [0.95071431 0.15601864 0.86617615]\n",
            " [0.73199394 0.15599452 0.60111501]]\n"
          ]
        }
      ]
    },
    {
      "cell_type": "markdown",
      "source": [
        "Pandas"
      ],
      "metadata": {
        "id": "Gz3qM1xcCye_"
      }
    },
    {
      "cell_type": "code",
      "source": [
        "import pandas as pd"
      ],
      "metadata": {
        "id": "kr7U3CFuC14i"
      },
      "execution_count": null,
      "outputs": []
    },
    {
      "cell_type": "code",
      "source": [
        "data = {'Nome': ['Ana', 'Bruno', 'Carla'],\n",
        "        'Idade':[28,34,22],\n",
        "        'Salário':[5000,5100,5200]}\n",
        "df = pd.DataFrame(data)"
      ],
      "metadata": {
        "id": "0DanESJ1C-vt"
      },
      "execution_count": null,
      "outputs": []
    },
    {
      "cell_type": "code",
      "source": [
        "print(df.info())"
      ],
      "metadata": {
        "colab": {
          "base_uri": "https://localhost:8080/"
        },
        "id": "NLt2MbI6DcXT",
        "outputId": "85c41fa8-107b-44b3-ba81-78b313313941"
      },
      "execution_count": null,
      "outputs": [
        {
          "output_type": "stream",
          "name": "stdout",
          "text": [
            "<class 'pandas.core.frame.DataFrame'>\n",
            "RangeIndex: 3 entries, 0 to 2\n",
            "Data columns (total 3 columns):\n",
            " #   Column   Non-Null Count  Dtype \n",
            "---  ------   --------------  ----- \n",
            " 0   Nome     3 non-null      object\n",
            " 1   Idade    3 non-null      int64 \n",
            " 2   Salário  3 non-null      int64 \n",
            "dtypes: int64(2), object(1)\n",
            "memory usage: 204.0+ bytes\n",
            "None\n"
          ]
        }
      ]
    },
    {
      "cell_type": "code",
      "source": [
        "print(df.describe())"
      ],
      "metadata": {
        "colab": {
          "base_uri": "https://localhost:8080/"
        },
        "id": "xHfhQx6kDh6w",
        "outputId": "61a28729-4ef0-43b7-c9b9-51b04c76b8ef"
      },
      "execution_count": null,
      "outputs": [
        {
          "output_type": "stream",
          "name": "stdout",
          "text": [
            "       Idade  Salário\n",
            "count    3.0      3.0\n",
            "mean    28.0   5100.0\n",
            "std      6.0    100.0\n",
            "min     22.0   5000.0\n",
            "25%     25.0   5050.0\n",
            "50%     28.0   5100.0\n",
            "75%     31.0   5150.0\n",
            "max     34.0   5200.0\n"
          ]
        }
      ]
    },
    {
      "cell_type": "code",
      "source": [
        "from sklearn.model_selection import train_test_split"
      ],
      "metadata": {
        "id": "qdnN1X6uDr_L"
      },
      "execution_count": null,
      "outputs": []
    },
    {
      "cell_type": "code",
      "source": [
        "semente = 42\n",
        "\n",
        "X = [[1,2], [3,4], [5,6], [7,8], [9,10]]\n",
        "y = [0,1,0,1,0]\n",
        "X_train, X_test, y_train, y_test = train_test_split(X,y, test_size=0.2, random_state=semente)\n",
        "\n",
        "print(\"Conjunto de treino:\", X_train)\n",
        "print(\"Conjunto de teste:\", X_test)"
      ],
      "metadata": {
        "colab": {
          "base_uri": "https://localhost:8080/"
        },
        "id": "_WLhjgmmD4TP",
        "outputId": "88d33609-d428-4987-e741-04e0813ce8c0"
      },
      "execution_count": null,
      "outputs": [
        {
          "output_type": "stream",
          "name": "stdout",
          "text": [
            "Conjunto de treino: [[9, 10], [5, 6], [1, 2], [7, 8]]\n",
            "Conjunto de teste: [[3, 4]]\n"
          ]
        }
      ]
    },
    {
      "cell_type": "code",
      "source": [
        "from sklearn.linear_model import LinearRegression"
      ],
      "metadata": {
        "id": "r0lDtTjPEnD2"
      },
      "execution_count": null,
      "outputs": []
    },
    {
      "cell_type": "code",
      "source": [
        "X = [[1],[2],[3],[4],[5]]\n",
        "y = [2,4,6,8,10]\n",
        "model = LinearRegression()\n",
        "model.fit(X,y)\n",
        "print(\"Coeficiente:\", model.coef_)\n",
        "print(\"Intercepção:\", model.intercept_)"
      ],
      "metadata": {
        "colab": {
          "base_uri": "https://localhost:8080/"
        },
        "id": "xhshu2bRGPaL",
        "outputId": "b142701e-1dec-4118-f9f6-0240f9d7e776"
      },
      "execution_count": null,
      "outputs": [
        {
          "output_type": "stream",
          "name": "stdout",
          "text": [
            "Coeficiente: [2.]\n",
            "Intercepção: 0.0\n"
          ]
        }
      ]
    },
    {
      "cell_type": "code",
      "source": [
        "!pip install matplotlib"
      ],
      "metadata": {
        "colab": {
          "base_uri": "https://localhost:8080/"
        },
        "id": "2FdwPevyG-UB",
        "outputId": "47871069-6397-44d1-8ffc-7a2473ba2fb7"
      },
      "execution_count": null,
      "outputs": [
        {
          "output_type": "stream",
          "name": "stdout",
          "text": [
            "Requirement already satisfied: matplotlib in /usr/local/lib/python3.11/dist-packages (3.10.0)\n",
            "Requirement already satisfied: contourpy>=1.0.1 in /usr/local/lib/python3.11/dist-packages (from matplotlib) (1.3.2)\n",
            "Requirement already satisfied: cycler>=0.10 in /usr/local/lib/python3.11/dist-packages (from matplotlib) (0.12.1)\n",
            "Requirement already satisfied: fonttools>=4.22.0 in /usr/local/lib/python3.11/dist-packages (from matplotlib) (4.57.0)\n",
            "Requirement already satisfied: kiwisolver>=1.3.1 in /usr/local/lib/python3.11/dist-packages (from matplotlib) (1.4.8)\n",
            "Requirement already satisfied: numpy>=1.23 in /usr/local/lib/python3.11/dist-packages (from matplotlib) (2.0.2)\n",
            "Requirement already satisfied: packaging>=20.0 in /usr/local/lib/python3.11/dist-packages (from matplotlib) (24.2)\n",
            "Requirement already satisfied: pillow>=8 in /usr/local/lib/python3.11/dist-packages (from matplotlib) (11.1.0)\n",
            "Requirement already satisfied: pyparsing>=2.3.1 in /usr/local/lib/python3.11/dist-packages (from matplotlib) (3.2.3)\n",
            "Requirement already satisfied: python-dateutil>=2.7 in /usr/local/lib/python3.11/dist-packages (from matplotlib) (2.8.2)\n",
            "Requirement already satisfied: six>=1.5 in /usr/local/lib/python3.11/dist-packages (from python-dateutil>=2.7->matplotlib) (1.17.0)\n"
          ]
        }
      ]
    },
    {
      "cell_type": "code",
      "source": [
        "import matplotlib.pyplot as plt"
      ],
      "metadata": {
        "id": "kQVRAgvyHJtw"
      },
      "execution_count": null,
      "outputs": []
    },
    {
      "cell_type": "code",
      "source": [
        "X_pred = np.linspace(0,6,100).reshape(-1,1) # Gera 100 pontos no intervalo de 0 a 6\n",
        "y_pred = model.predict(X_pred)"
      ],
      "metadata": {
        "id": "r9KOBsdPH-X1"
      },
      "execution_count": null,
      "outputs": []
    },
    {
      "cell_type": "code",
      "source": [
        "plt.scatter(X,y, color='blue', label='Dados originais') # Pontos de dados originais\n",
        "plt.plot(X_pred, y_pred, color='red', label='Linha de regressão') # Linha de regressão\n",
        "plt.title('Regressão Linear')\n",
        "plt.xlabel('X')\n",
        "plt.ylabel('y')\n",
        "plt.legend()\n",
        "plt.grid(True)\n",
        "plt.show()"
      ],
      "metadata": {
        "colab": {
          "base_uri": "https://localhost:8080/",
          "height": 472
        },
        "id": "h3ThRw6FISOF",
        "outputId": "ee91e40d-c685-444b-d8f7-3260e3dd7008"
      },
      "execution_count": null,
      "outputs": [
        {
          "output_type": "display_data",
          "data": {
            "text/plain": [
              "<Figure size 640x480 with 1 Axes>"
            ],
            "image/png": "[encoded data removed]"
          },
          "metadata": {}
        }
      ]
    }
  ]
}